{
 "cells": [
  {
   "cell_type": "code",
   "execution_count": 46,
   "metadata": {},
   "outputs": [],
   "source": [
    "import os\n",
    "import numpy as np\n",
    "import random\n",
    "import cv2\n",
    "import operator\n",
    "from environment import City, Person\n",
    "import matplotlib.pyplot as plt\n",
    "from jupyterthemes import jtplot\n",
    "import shelve\n",
    "\n",
    "%matplotlib inline\n",
    "jtplot.style('monokai')"
   ]
  },
  {
   "cell_type": "code",
   "execution_count": 2,
   "metadata": {},
   "outputs": [
    {
     "data": {
      "image/png": "[encoded data removed]",
      "text/plain": [
       "<Figure size 864x864 with 1 Axes>"
      ]
     },
     "metadata": {
      "needs_background": "light"
     },
     "output_type": "display_data"
    }
   ],
   "source": [
    "city = City(\n",
    "        200,\n",
    "        100,\n",
    "        school=3,\n",
    "        office=5,\n",
    "        hospital=2,\n",
    "        apartment=30,\n",
    "        smallhouse=50,\n",
    "        public_places=10,\n",
    "    )\n",
    "city._spawn_buildings()\n",
    "city.draw_city((12, 12))"
   ]
  },
  {
   "cell_type": "code",
   "execution_count": null,
   "metadata": {},
   "outputs": [],
   "source": [
    "persons = []"
   ]
  },
  {
   "cell_type": "code",
   "execution_count": 20,
   "metadata": {
    "scrolled": false
   },
   "outputs": [
    {
     "name": "stdout",
     "output_type": "stream",
     "text": [
      "Person1 Details\n",
      "---------------\n",
      "Name: Angelica\n",
      "Age: 49\n",
      "Occupation: FieldJob\n",
      "Work Location: [(102, 72), (120, 104), (70, 5), (13, 102), (109, 179), (36, 1), (6, 93)]\n",
      "Stays at: (69, 100)\n",
      "Immunity: 0.4237457678490625\n",
      "Hygiene: 0.3671487599386183\n",
      "Infected: False\n",
      "Person2 Details\n",
      "---------------\n",
      "Name: Robert\n",
      "Age: 30\n",
      "Occupation: FieldJob\n",
      "Work Location: [(47, 195), (141, 188), (159, 192), (26, 169), (177, 117), (197, 149), (22, 175)]\n",
      "Stays at: (194, 177)\n",
      "Immunity: 0.1\n",
      "Hygiene: 0.1\n",
      "Infected: False\n",
      "Person3 Details\n",
      "---------------\n",
      "Name: Robert\n",
      "Age: 18\n",
      "Occupation: Student\n",
      "Work Location: [(172, 155)]\n",
      "Stays at: (12, 4)\n",
      "Immunity: 0.2629686821432535\n",
      "Hygiene: 0.9\n",
      "Infected: False\n"
     ]
    }
   ],
   "source": [
    "person1 = city.spawn_person()\n",
    "person2 = city.spawn_person()\n",
    "person3 = city.spawn_person()\n",
    "print(\"Person1 Details\")\n",
    "print(\"---------------\")\n",
    "person1.about(details=True)\n",
    "print(\"Person2 Details\")\n",
    "print(\"---------------\")\n",
    "person2.about(details=True)\n",
    "print(\"Person3 Details\")\n",
    "print(\"---------------\")\n",
    "person3.about(details=True)"
   ]
  },
  {
   "cell_type": "code",
   "execution_count": 17,
   "metadata": {},
   "outputs": [],
   "source": [
    "def square(pos, l):\n",
    "    min_ = max(pos[1] - l, 0), max(pos[0] - l, 0)\n",
    "    max_ = pos[1] + l, pos[0] + l\n",
    "    return min_, max_"
   ]
  },
  {
   "cell_type": "code",
   "execution_count": 21,
   "metadata": {},
   "outputs": [],
   "source": [
    "citymap = city.rgb_grid.copy()\n",
    "for time in range(8, 24):\n",
    "    current_pos1 = person1.step(time)\n",
    "    current_pos2 = person2.step(time)\n",
    "    current_pos3 = person3.step(time)\n",
    "    \n",
    "    x1, x2 = square(current_pos1, 2)\n",
    "    y1, y2 = square(current_pos2, 2)\n",
    "    z1, z2 = square(current_pos3, 2)\n",
    "    \n",
    "    cv2.rectangle(citymap, x1, x2, (0, 255, 0), 1)\n",
    "    cv2.rectangle(citymap, y1, y2, (255, 255, 0), 1)\n",
    "    cv2.rectangle(citymap, z1, z2, (255, 255, 255), 1)\n",
    "    \n",
    "    \n",
    "#     cv2.circle(citymap, current_pos1, 5, (0, 255, 0), 1)\n",
    "#     cv2.circle(citymap, current_pos2, 5, (0, 0, 255), 1)\n",
    "#     cv2.circle(citymap, current_pos3, 5, (255, 255, 255), 1)\n",
    "    \n",
    "#    print(f\"time:{time} Hrs. --> location:{current_pos2}\")"
   ]
  },
  {
   "cell_type": "code",
   "execution_count": 22,
   "metadata": {
    "scrolled": false
   },
   "outputs": [
    {
     "data": {
      "image/png": "[encoded data removed]",
      "text/plain": [
       "<Figure size 864x864 with 1 Axes>"
      ]
     },
     "metadata": {},
     "output_type": "display_data"
    }
   ],
   "source": [
    "plt.figure(figsize = (12, 12))\n",
    "plt.imshow(citymap)\n",
    "plt.show()"
   ]
  },
  {
   "cell_type": "code",
   "execution_count": 31,
   "metadata": {},
   "outputs": [],
   "source": [
    "locs = [(1,2), (0, 1), (3, 4), (1, 2), (0, 1), (4, 4), (3, 2), (2, 1)]\n",
    "infected =[0] * len(locs)\n",
    "infected[0] = 1\n",
    "infected[1] = 1"
   ]
  },
  {
   "cell_type": "code",
   "execution_count": 38,
   "metadata": {},
   "outputs": [
    {
     "data": {
      "text/plain": [
       "(array([0, 1]),)"
      ]
     },
     "execution_count": 38,
     "metadata": {},
     "output_type": "execute_result"
    }
   ],
   "source": [
    "np.where(np.array(infected) > 0)"
   ]
  },
  {
   "cell_type": "code",
   "execution_count": 30,
   "metadata": {},
   "outputs": [],
   "source": [
    "ss = np.array(locs)"
   ]
  },
  {
   "cell_type": "code",
   "execution_count": 41,
   "metadata": {},
   "outputs": [
    {
     "data": {
      "text/plain": [
       "array([[1, 2],\n",
       "       [0, 1],\n",
       "       [3, 4],\n",
       "       [1, 2],\n",
       "       [0, 1],\n",
       "       [4, 4],\n",
       "       [3, 2],\n",
       "       [2, 1]])"
      ]
     },
     "execution_count": 41,
     "metadata": {},
     "output_type": "execute_result"
    }
   ],
   "source": [
    "ss"
   ]
  },
  {
   "cell_type": "code",
   "execution_count": 45,
   "metadata": {},
   "outputs": [
    {
     "data": {
      "text/plain": [
       "(array([0, 0, 3, 3, 6]), array([0, 1, 0, 1, 1]))"
      ]
     },
     "execution_count": 45,
     "metadata": {},
     "output_type": "execute_result"
    }
   ],
   "source": [
    "np.where(ss == np.array([[1, 2]]))"
   ]
  },
  {
   "cell_type": "code",
   "execution_count": null,
   "metadata": {},
   "outputs": [],
   "source": []
  }
 ],
 "metadata": {
  "kernelspec": {
   "display_name": "conda3 (deep_learning)",
   "language": "python",
   "name": "deep_learning"
  },
  "language_info": {
   "codemirror_mode": {
    "name": "ipython",
    "version": 3
   },
   "file_extension": ".py",
   "mimetype": "text/x-python",
   "name": "python",
   "nbconvert_exporter": "python",
   "pygments_lexer": "ipython3",
   "version": "3.7.4"
  }
 },
 "nbformat": 4,
 "nbformat_minor": 2
}
